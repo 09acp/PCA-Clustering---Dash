{
 "cells": [
  {
   "cell_type": "markdown",
   "metadata": {
    "_uuid": "8ccb4ff4aaeaae5004d2203e0149a7c416bd7c4b"
   },
   "source": [
    "<center>\n",
    "<img src=\"https://habrastorage.org/files/fd4/502/43d/fd450243dd604b81b9713213a247aa20.jpg\">\n",
    "## Open Machine Learning Course\n",
    "<center>Authors: [Olga Daykhovskaya](https://www.linkedin.com/in/odaykhovskaya/), [Yury Kashnitsky](https://www.linkedin.com/in/festline/) <br>\n",
    "    All content is distributed under the [Creative Commons CC BY-NC-SA 4.0](https://creativecommons.org/licenses/by-nc-sa/4.0/) license."
   ]
  },
  {
   "cell_type": "markdown",
   "metadata": {
    "_uuid": "fb758fbaa68c09ce13b31fd6982499c2212de2a1"
   },
   "source": [
    "# <center>Assignment #7 (demo)\n",
    "## <center> Unsupervised learning"
   ]
  },
  {
   "cell_type": "markdown",
   "metadata": {
    "_uuid": "19ed99767bc346b8cabd9c285c46d78341b68ac0"
   },
   "source": [
    "In this task, we will look at how data dimensionality reduction and clustering methods work. At the same time, we'll practice solving classification task again.\n",
    "\n",
    "We will work with the [Samsung Human Activity Recognition](https://archive.ics.uci.edu/ml/datasets/Human+Activity+Recognition+Using+Smartphones) dataset. Download the data [here](https://drive.google.com/file/d/14RukQ0ylM2GCdViUHBBjZ2imCaYcjlux/view?usp=sharing). The data comes from accelerometers and gyros of Samsung Galaxy S3 mobile phones ( you can find more info about the features using the link above), the type of activity of a person with a phone in his/her pocket is also known – whether he/she walked, stood, lay, sat or walked up or down the stairs.\n",
    "\n",
    "First, we pretend that the type of activity is unknown to us, and we will try to cluster people purely on the basis of available features. Then we solve the problem of determining the type of physical activity as a classification problem.\n",
    "\n",
    "Fill the code where needed (\"Your code is here\") and answer the questions in the [web form](https://docs.google.com/forms/d/1wBf5UoRndv6PpzIwYnM9f0ysoGa4Yqcqle-HBlBP5QQ/edit)."
   ]
  },
  {
   "cell_type": "markdown",
   "metadata": {},
   "source": [
    "https://www.kaggle.com/kashnitsky/a7-demo-unsupervised-learning-solution\n",
    "\n",
    "https://archive.ics.uci.edu/ml/datasets/Human+Activity+Recognition+Using+Smartphones#"
   ]
  },
  {
   "cell_type": "code",
   "execution_count": 1,
   "metadata": {
    "_uuid": "49d35cc6431c8053964544de63bb91e638db1fa9"
   },
   "outputs": [],
   "source": [
    "import os\n",
    "import numpy as np\n",
    "import pandas as pd\n",
    "import seaborn as sns\n",
    "from tqdm import tqdm_notebook\n",
    "\n",
    "%matplotlib inline\n",
    "from matplotlib import pyplot as plt\n",
    "plt.style.use(['seaborn-darkgrid'])\n",
    "plt.rcParams['figure.figsize'] = (12, 9)\n",
    "plt.rcParams['font.family'] = 'DejaVu Sans'\n",
    "\n",
    "from sklearn import metrics\n",
    "from sklearn.cluster import KMeans, AgglomerativeClustering, SpectralClustering\n",
    "from sklearn.decomposition import PCA\n",
    "from sklearn.model_selection import GridSearchCV\n",
    "from sklearn.preprocessing import StandardScaler\n",
    "from sklearn.svm import LinearSVC\n",
    "\n",
    "RANDOM_STATE = 17"
   ]
  },
  {
   "cell_type": "code",
   "execution_count": 2,
   "metadata": {
    "_uuid": "5a288069f3a890d7a37113ef2800e8a7b1dd1afb"
   },
   "outputs": [],
   "source": [
    "# change this if necessary\n",
    "PATH_TO_SAMSUNG_DATA =  \"C:/Users/09ale/Desktop/PCA + Clustering/samsung_HAR\"  #\"../input\""
   ]
  },
  {
   "cell_type": "code",
   "execution_count": 3,
   "metadata": {
    "_uuid": "75b935cdfe1e013aae43db776e8db37a20e2ac6b"
   },
   "outputs": [],
   "source": [
    "X_train = np.loadtxt(os.path.join(PATH_TO_SAMSUNG_DATA, \"samsung_train.txt\"))\n",
    "y_train = np.loadtxt(os.path.join(PATH_TO_SAMSUNG_DATA,\n",
    "                                  \"samsung_train_labels.txt\")).astype(int)\n",
    "\n",
    "X_test = np.loadtxt(os.path.join(PATH_TO_SAMSUNG_DATA, \"samsung_test.txt\"))\n",
    "y_test = np.loadtxt(os.path.join(PATH_TO_SAMSUNG_DATA,\n",
    "                                  \"samsung_test_labels.txt\")).astype(int)"
   ]
  },
  {
   "cell_type": "code",
   "execution_count": 4,
   "metadata": {
    "_uuid": "98b267f6cfd624a0458dabdde5525b27970978bc"
   },
   "outputs": [],
   "source": [
    "# Checking dimensions\n",
    "assert(X_train.shape == (7352, 561) and y_train.shape == (7352,))\n",
    "assert(X_test.shape == (2947, 561) and y_test.shape == (2947,))"
   ]
  },
  {
   "cell_type": "markdown",
   "metadata": {
    "_uuid": "6ae636fe849d7d67db976feaa7ca2e25ba7c3795"
   },
   "source": [
    "For clustering, we do not need a target vector, so we'll work with the combination of training and test samples. Merge `X_train` with `X_test`, and `y_train` with `y_test`."
   ]
  },
  {
   "cell_type": "code",
   "execution_count": 5,
   "metadata": {
    "_uuid": "e57109377ec2f6c93542f038ccf57fc751f06812"
   },
   "outputs": [],
   "source": [
    "# Your code here\n",
    "\n",
    "x = np.vstack(  (X_train, X_test) )\n",
    "y = np.hstack(  (y_train, y_test) )"
   ]
  },
  {
   "cell_type": "markdown",
   "metadata": {
    "_uuid": "77c4ccbe64c015a09874cff61bf751b0e7917ef4"
   },
   "source": [
    "Define the number of unique values of the labels of the target class."
   ]
  },
  {
   "cell_type": "code",
   "execution_count": 6,
   "metadata": {
    "_uuid": "5a92a3783a446acf928972d3ec418f29a0cff6e0"
   },
   "outputs": [
    {
     "data": {
      "text/plain": [
       "((10299, 561), (10299,), -1.0, 1.0)"
      ]
     },
     "execution_count": 6,
     "metadata": {},
     "output_type": "execute_result"
    }
   ],
   "source": [
    "# Your code here\n",
    "np.unique(y)\n",
    "x.shape, y.shape, x.min(), x.max()"
   ]
  },
  {
   "cell_type": "code",
   "execution_count": 7,
   "metadata": {
    "_uuid": "e29b5a97cba7305053fbe12985eb3abaf012eeb0"
   },
   "outputs": [
    {
     "data": {
      "text/plain": [
       "6"
      ]
     },
     "execution_count": 7,
     "metadata": {},
     "output_type": "execute_result"
    }
   ],
   "source": [
    "n_classes = np.unique(y).size\n",
    "n_classes"
   ]
  },
  {
   "cell_type": "markdown",
   "metadata": {
    "_uuid": "3c878aa4cc63242a33b9d030efba7623bd8a5d2c"
   },
   "source": [
    "[These labels correspond to:](https://archive.ics.uci.edu/ml/machine-learning-databases/00240/UCI%20HAR%20Dataset.names)\n",
    "- 1 – walking\n",
    "- 2 – walking upstairs\n",
    "- 3 – walking downstairs\n",
    "- 4 – sitting\n",
    "- 5 – standing\n",
    "- 6 – laying down"
   ]
  },
  {
   "cell_type": "markdown",
   "metadata": {
    "_uuid": "f2037a9432194f9a3d2f390ca2ad49a1ac1a6192"
   },
   "source": [
    "Scale the sample using `StandardScaler` with default parameters."
   ]
  },
  {
   "cell_type": "code",
   "execution_count": 8,
   "metadata": {
    "_uuid": "70461dfacab8bd090d951e6114beaa40aa293919"
   },
   "outputs": [
    {
     "data": {
      "text/plain": [
       "(-26.4571158318284, 37.03440431111005)"
      ]
     },
     "execution_count": 8,
     "metadata": {},
     "output_type": "execute_result"
    }
   ],
   "source": [
    "# Your code here\n",
    "\n",
    "\" IT IS ALREADY SCALED, NOW WE REVERSE THIS ??? \"\n",
    "scaler = StandardScaler()\n",
    "scaled_x = scaler.fit_transform(x)\n",
    "scaled_x.min(), scaled_x.max()"
   ]
  },
  {
   "cell_type": "markdown",
   "metadata": {
    "_uuid": "b7249210501c3396bddbf57cea47ac01a0d85170"
   },
   "source": [
    "Reduce the number of dimensions using PCA, leaving as many components as necessary to explain at least 90% of the variance of the original (scaled) data. Use the scaled dataset and fix `random_state` (RANDOM_STATE constant)."
   ]
  },
  {
   "cell_type": "code",
   "execution_count": 9,
   "metadata": {
    "_uuid": "2fc8993e03857d93b59e5e1e5800f494b23239be"
   },
   "outputs": [],
   "source": [
    "# Your code here\n",
    "\n",
    "pca = PCA(n_components=0.9, random_state=RANDOM_STATE).fit(scaled_x)\n",
    "# pca = PCA(n_components=2, random_state=RANDOM_STATE).fit(scaled_x) # for 2 components\n",
    "X_pca = pca.transform(scaled_x)"
   ]
  },
  {
   "cell_type": "markdown",
   "metadata": {
    "_uuid": "f0664d287ec08bb891d3c12fc87977bf92c97ae3"
   },
   "source": [
    "** Question 1: ** <br>\n",
    "What is the minimum number of principal components required to cover the 90% of the variance of the original (scaled) data?"
   ]
  },
  {
   "cell_type": "code",
   "execution_count": 10,
   "metadata": {
    "_uuid": "c67c5a22dec7dbc1bfa362d85ddad72334cb6ffb"
   },
   "outputs": [
    {
     "data": {
      "text/plain": [
       "(65, (10299, 65), 0.9)"
      ]
     },
     "execution_count": 10,
     "metadata": {},
     "output_type": "execute_result"
    }
   ],
   "source": [
    "# Your code here\n",
    "X_pca.shape[1] , X_pca.shape  , pca.n_components"
   ]
  },
  {
   "cell_type": "markdown",
   "metadata": {
    "_uuid": "a3d8270e6546cb8b38b7cd47909eff93d77716bc"
   },
   "source": [
    "**Answer options:**\n",
    "- 56 \n",
    "- 65\n",
    "- 66\n",
    "- 193"
   ]
  },
  {
   "cell_type": "markdown",
   "metadata": {
    "_uuid": "baf5451408baf763d178b01a5d75e37105f4446e"
   },
   "source": [
    "**Вопрос 2:**<br>\n",
    "What percentage of the variance is covered by the first principal component? Round to the nearest percent.\n",
    "\n",
    "**Answer options:**\n",
    "- 45\n",
    "- 51 \n",
    "- 56\n",
    "- 61"
   ]
  },
  {
   "cell_type": "code",
   "execution_count": 11,
   "metadata": {
    "_uuid": "3fcec6dd81af6f09364cb011ba0994d4e5852f43"
   },
   "outputs": [
    {
     "name": "stdout",
     "output_type": "stream",
     "text": [
      "First 3 components each explain [0.51 0.06 0.03] of the variance\n",
      "\n",
      "0     16.842680\n",
      "1      4.181968\n",
      "7      3.619970\n",
      "2      3.325102\n",
      "12     1.846233\n",
      "dtype: float64 \n",
      " 65\n"
     ]
    },
    {
     "data": {
      "text/plain": [
       "Text(0.5, 1.0, ' How much variance each principal component explains ')"
      ]
     },
     "execution_count": 11,
     "metadata": {},
     "output_type": "execute_result"
    },
    {
     "data": {
      "image/png": "[encoded data removed]",
      "text/plain": [
       "<Figure size 432x288 with 1 Axes>"
      ]
     },
     "metadata": {
      "needs_background": "light"
     },
     "output_type": "display_data"
    }
   ],
   "source": [
    "# Your code here\n",
    "print(\"First 3 components each explain %s of the variance\\n\" %(np.round(pca.explained_variance_ratio_[:3],2)))\n",
    "\n",
    "\n",
    "\n",
    "\"\"\"\n",
    "  WHY IS THERE NO COMPONENT EXPLAINING 51 % OF VARIANCE ???\n",
    "\"\"\"\n",
    "\" How much variance each principal component explains, 65 components needed to explain 90% of variance \"\n",
    "feature_contribution = pd.DataFrame ( np.transpose (pca.components_) ).sum().sort_values(ascending=False)\n",
    "print(feature_contribution.head(), \"\\n\", len(feature_contribution))\n",
    "plt.barh(feature_contribution.index, feature_contribution.values, height=1.4, )\n",
    "plt.xlabel(\"Explained Variance\")\n",
    "plt.ylabel(\"Principal Components\")\n",
    "plt.title(\" How much variance each principal component explains \")"
   ]
  },
  {
   "cell_type": "markdown",
   "metadata": {},
   "source": [
    "#### Contribution by feature\n",
    "- https://towardsdatascience.com/dive-into-pca-principal-component-analysis-with-python-43ded13ead21"
   ]
  },
  {
   "cell_type": "code",
   "execution_count": 12,
   "metadata": {
    "scrolled": true
   },
   "outputs": [
    {
     "name": "stdout",
     "output_type": "stream",
     "text": [
      "(10299,) (10299, 561) (10299, 65) (65, 561)\n"
     ]
    },
    {
     "data": {
      "text/plain": [
       "'\\n??? \\nneed to use labels y set\\n6 classes \\nbut PCA changed shape \\n'"
      ]
     },
     "execution_count": 12,
     "metadata": {},
     "output_type": "execute_result"
    }
   ],
   "source": [
    "### pd.DataFrame ( pca.components_, columns= data_scaled.columns,index = ['PC-1','PC-2'] )\n",
    "\n",
    "\" Getting contribution per feature \"\n",
    "print(y.shape, scaled_x.shape ,X_pca.shape, pca.components_.shape)\n",
    "\n",
    "\"\"\"\n",
    "??? \n",
    "need to use labels y set\n",
    "6 classes \n",
    "but PCA changed shape \n",
    "\"\"\"\n",
    "\n",
    "# tab = pd.crosstab(y, list(range(pca.components_.shape[0])), margins=True)\n",
    "# tab.index = ['walking', 'going up the stairs',\n",
    "#             'going down the stairs', 'sitting', 'standing', 'lying', 'all']\n",
    "# #tab.columns = ['cluster' + str(i + 1) for i in range(6)] + ['all']\n",
    "# tab"
   ]
  },
  {
   "cell_type": "markdown",
   "metadata": {},
   "source": [
    "TRYING TO GET CONTRIBUTION OF EACH COMPONENT \n",
    "\n",
    "## NOT WORKING BECAUSE 561 ATTRIBUTE NAMES UNKNOWN"
   ]
  },
  {
   "cell_type": "code",
   "execution_count": 13,
   "metadata": {
    "scrolled": true
   },
   "outputs": [
    {
     "data": {
      "text/plain": [
       "array([284.66906046,  35.00523109,  15.10675009,  13.76194237,\n",
       "        10.59795807,   9.15301694,   7.93630205,   6.8236041 ,\n",
       "         5.52777556,   5.32568727,   4.81555095,   4.54442854,\n",
       "         4.29690679,   3.79647396,   3.53599881,   3.4545119 ,\n",
       "         3.34015342,   3.23838116,   3.16115646,   3.03435011,\n",
       "         2.91090699,   2.82065462,   2.65507517,   2.60227424,\n",
       "         2.50706305,   2.46790059,   2.33882882,   2.2487546 ,\n",
       "         2.18290527,   2.13951714,   2.05833908,   2.04424372,\n",
       "         1.95933981,   1.94537823,   1.88255607,   1.84817245,\n",
       "         1.81683101,   1.68601446,   1.65092509,   1.62959655,\n",
       "         1.54719185,   1.51408464,   1.482282  ,   1.44769038,\n",
       "         1.43086185,   1.39015734,   1.3775991 ,   1.33693869,\n",
       "         1.32353846,   1.30189148,   1.28122573,   1.22972853,\n",
       "         1.1929778 ,   1.17341493,   1.14163173,   1.12865486,\n",
       "         1.11150925,   1.09064125,   1.08008112,   1.06341701,\n",
       "         1.04582374,   1.02629635,   1.01526441,   0.98949775,\n",
       "         0.97728869])"
      ]
     },
     "execution_count": 13,
     "metadata": {},
     "output_type": "execute_result"
    }
   ],
   "source": [
    "# pca.components_.shape   , scaled_x  labels  \n",
    "# (65, 561)    (10299, 561)              \n",
    "pca.explained_variance_"
   ]
  },
  {
   "cell_type": "code",
   "execution_count": null,
   "metadata": {},
   "outputs": [],
   "source": [
    "plt.matshow(pca.components_[:, :10],cmap='viridis')\n",
    "plt.yticks([0,1],['1st Comp','2nd Comp'],fontsize=10)\n",
    "plt.colorbar()\n",
    "classes = ['walking', 'going up the stairs',\n",
    "            'going down the stairs', 'sitting', 'standing', 'laying', 'all']\n",
    "plt.xticks(range(len(classes)), classes , rotation=65, ha='left')\n",
    "plt.tight_layout()\n",
    "plt.show()# "
   ]
  },
  {
   "cell_type": "code",
   "execution_count": null,
   "metadata": {},
   "outputs": [],
   "source": []
  },
  {
   "cell_type": "markdown",
   "metadata": {
    "_uuid": "53787132590f0f8b8f9b44d47981f9de969b89f2"
   },
   "source": [
    "Visualize data in projection on the first two principal components."
   ]
  },
  {
   "cell_type": "code",
   "execution_count": null,
   "metadata": {
    "_uuid": "3ce508b33d3f0a1128265e57cad8b8093a71f8a6"
   },
   "outputs": [],
   "source": [
    "# Your code here\n",
    "plt.scatter(X_pca[:,0],X_pca[:,1] , c=y, s=20, cmap='viridis');\n"
   ]
  },
  {
   "cell_type": "markdown",
   "metadata": {},
   "source": [
    "**=====================================================================**"
   ]
  },
  {
   "cell_type": "markdown",
   "metadata": {
    "_uuid": "e54a8eb905c5d9b6180083fab0ef8f74ca582c62"
   },
   "source": [
    "### **Question 3:**<br>\n",
    "If everything worked out correctly, you will see a number of clusters, almost perfectly separated from each other. What types of activity are included in these clusters? <br>\n",
    "\n",
    "**Answer options:**\n",
    "- 1 cluster: all 6 activities\n",
    "- 2 clusters: (walking, walking upstairs, walking downstairs ) and (sitting, standing, laying)\n",
    "- 3 clusters: (walking), (walking upstairs, walking downstairs) and (sitting, standing, laying)\n",
    "- 6 clusters"
   ]
  },
  {
   "cell_type": "markdown",
   "metadata": {
    "_uuid": "8880c32278abd73e16764a6b842717cd783b66cf"
   },
   "source": [
    "------------------------------"
   ]
  },
  {
   "cell_type": "markdown",
   "metadata": {
    "_uuid": "37b0cfd306d225c21ae1e2a8abb882870a24271b"
   },
   "source": [
    "Perform clustering with the `KMeans` method, training the model on data with reduced dimensionality (by PCA). In this case, we will give a clue to look for exactly 6 clusters, but in general case we will not know how many clusters we should be looking for.\n",
    "\n",
    "Options:\n",
    "\n",
    "- ** n_clusters ** = n_classes (number of unique labels of the target class)\n",
    "- ** n_init ** = 100\n",
    "- ** random_state ** = RANDOM_STATE (for reproducibility of the result)\n",
    "\n",
    "Other parameters should have default values."
   ]
  },
  {
   "cell_type": "code",
   "execution_count": 14,
   "metadata": {
    "_uuid": "0d6d17a62f335bb062ea0e5134cb03ff60cb085b"
   },
   "outputs": [
    {
     "data": {
      "text/plain": [
       "(10299,)"
      ]
     },
     "execution_count": 14,
     "metadata": {},
     "output_type": "execute_result"
    }
   ],
   "source": [
    "# Your code here\n",
    "kmeans = KMeans(n_clusters=n_classes, n_init=100, \n",
    "                random_state=RANDOM_STATE, n_jobs=1)\n",
    "kmeans.fit(X_pca)\n",
    "cluster_labels = kmeans.labels_\n",
    "cluster_labels.shape"
   ]
  },
  {
   "cell_type": "markdown",
   "metadata": {
    "_uuid": "e34d43b9b3ebd34ad01c3a1d9d1a4dde85a4e832"
   },
   "source": [
    "Visualize data in projection on the first two principal components. Color the dots according to the clusters obtained."
   ]
  },
  {
   "cell_type": "code",
   "execution_count": 15,
   "metadata": {
    "_uuid": "c05aa57fd57870aaa25543be822a75801a80b9a2"
   },
   "outputs": [
    {
     "data": {
      "image/png": "[encoded data removed]",
      "text/plain": [
       "<Figure size 432x288 with 1 Axes>"
      ]
     },
     "metadata": {
      "needs_background": "light"
     },
     "output_type": "display_data"
    }
   ],
   "source": [
    "# Your code here\n",
    "plt.scatter( X_pca[:, 0], X_pca[:, 1], c=cluster_labels, s=20, cmap='viridis');"
   ]
  },
  {
   "cell_type": "markdown",
   "metadata": {
    "_uuid": "0d84b356e4e6f91f05fdb9a526ccfdb099523882"
   },
   "source": [
    "Look at the correspondence between the cluster marks and the original class labels and what kinds of activities the `KMeans` algorithm is confused at."
   ]
  },
  {
   "cell_type": "code",
   "execution_count": 16,
   "metadata": {
    "_uuid": "617e35a6ce5f78fa73d315b5cdbcad8e29c8cf21"
   },
   "outputs": [
    {
     "data": {
      "text/html": [
       "<div>\n",
       "<style scoped>\n",
       "    .dataframe tbody tr th:only-of-type {\n",
       "        vertical-align: middle;\n",
       "    }\n",
       "\n",
       "    .dataframe tbody tr th {\n",
       "        vertical-align: top;\n",
       "    }\n",
       "\n",
       "    .dataframe thead th {\n",
       "        text-align: right;\n",
       "    }\n",
       "</style>\n",
       "<table border=\"1\" class=\"dataframe\">\n",
       "  <thead>\n",
       "    <tr style=\"text-align: right;\">\n",
       "      <th></th>\n",
       "      <th>cluster1</th>\n",
       "      <th>cluster2</th>\n",
       "      <th>cluster3</th>\n",
       "      <th>cluster4</th>\n",
       "      <th>cluster5</th>\n",
       "      <th>cluster6</th>\n",
       "      <th>all</th>\n",
       "    </tr>\n",
       "  </thead>\n",
       "  <tbody>\n",
       "    <tr>\n",
       "      <td>walking</td>\n",
       "      <td>903</td>\n",
       "      <td>0</td>\n",
       "      <td>0</td>\n",
       "      <td>78</td>\n",
       "      <td>741</td>\n",
       "      <td>0</td>\n",
       "      <td>1722</td>\n",
       "    </tr>\n",
       "    <tr>\n",
       "      <td>going up the stairs</td>\n",
       "      <td>1241</td>\n",
       "      <td>0</td>\n",
       "      <td>0</td>\n",
       "      <td>5</td>\n",
       "      <td>296</td>\n",
       "      <td>2</td>\n",
       "      <td>1544</td>\n",
       "    </tr>\n",
       "    <tr>\n",
       "      <td>going down the stairs</td>\n",
       "      <td>320</td>\n",
       "      <td>0</td>\n",
       "      <td>0</td>\n",
       "      <td>196</td>\n",
       "      <td>890</td>\n",
       "      <td>0</td>\n",
       "      <td>1406</td>\n",
       "    </tr>\n",
       "    <tr>\n",
       "      <td>sitting</td>\n",
       "      <td>1</td>\n",
       "      <td>1235</td>\n",
       "      <td>91</td>\n",
       "      <td>0</td>\n",
       "      <td>0</td>\n",
       "      <td>450</td>\n",
       "      <td>1777</td>\n",
       "    </tr>\n",
       "    <tr>\n",
       "      <td>standing</td>\n",
       "      <td>0</td>\n",
       "      <td>1344</td>\n",
       "      <td>0</td>\n",
       "      <td>0</td>\n",
       "      <td>0</td>\n",
       "      <td>562</td>\n",
       "      <td>1906</td>\n",
       "    </tr>\n",
       "    <tr>\n",
       "      <td>laying</td>\n",
       "      <td>5</td>\n",
       "      <td>52</td>\n",
       "      <td>1558</td>\n",
       "      <td>0</td>\n",
       "      <td>0</td>\n",
       "      <td>329</td>\n",
       "      <td>1944</td>\n",
       "    </tr>\n",
       "    <tr>\n",
       "      <td>all</td>\n",
       "      <td>2470</td>\n",
       "      <td>2631</td>\n",
       "      <td>1649</td>\n",
       "      <td>279</td>\n",
       "      <td>1927</td>\n",
       "      <td>1343</td>\n",
       "      <td>10299</td>\n",
       "    </tr>\n",
       "  </tbody>\n",
       "</table>\n",
       "</div>"
      ],
      "text/plain": [
       "                       cluster1  cluster2  cluster3  cluster4  cluster5  \\\n",
       "walking                     903         0         0        78       741   \n",
       "going up the stairs        1241         0         0         5       296   \n",
       "going down the stairs       320         0         0       196       890   \n",
       "sitting                       1      1235        91         0         0   \n",
       "standing                      0      1344         0         0         0   \n",
       "laying                        5        52      1558         0         0   \n",
       "all                        2470      2631      1649       279      1927   \n",
       "\n",
       "                       cluster6    all  \n",
       "walking                       0   1722  \n",
       "going up the stairs           2   1544  \n",
       "going down the stairs         0   1406  \n",
       "sitting                     450   1777  \n",
       "standing                    562   1906  \n",
       "laying                      329   1944  \n",
       "all                        1343  10299  "
      ]
     },
     "execution_count": 16,
     "metadata": {},
     "output_type": "execute_result"
    }
   ],
   "source": [
    "tab = pd.crosstab( y, cluster_labels, margins=True)  # data points, cluster names\n",
    "tab.index = ['walking', 'going up the stairs',\n",
    "            'going down the stairs', 'sitting', 'standing', 'laying', 'all']\n",
    "tab.columns = ['cluster' + str(i + 1) for i in range(6)] + ['all'] # classes\n",
    "tab"
   ]
  },
  {
   "cell_type": "code",
   "execution_count": 17,
   "metadata": {},
   "outputs": [
    {
     "name": "stdout",
     "output_type": "stream",
     "text": [
      "Cluster: 0, Accuracy: 52.4\n",
      "Cluster: 1, Accuracy: 80.4\n",
      "Cluster: 2, Accuracy: 63.3\n",
      "Cluster: 3, Accuracy: 69.5\n",
      "Cluster: 4, Accuracy: 70.5\n",
      "Cluster: 5, Accuracy: 80.1\n"
     ]
    }
   ],
   "source": [
    "def missfire (table):\n",
    "    for i in range(tab.shape[1]-1):\n",
    "        print (\"Cluster: %s, Accuracy: %s\" %(i,str(round(table.values[i][:-1].max() / table.values[i][-1]*100, 1))))\n",
    "\n",
    "missfire(tab)\n",
    "\n",
    "\n",
    "# \"\"\"\n",
    "# OR \n",
    "# pd.Series(tab.iloc[:-1,:-1].max(axis=1).values / \n",
    "#           tab.iloc[:-1,-1].values, index=tab.index[:-1])\n",
    "# \"\"\""
   ]
  },
  {
   "cell_type": "markdown",
   "metadata": {
    "_uuid": "047f89c9981e696776ee98f87d0934ee1b08ed98"
   },
   "source": [
    "We see that for each class (i.e., each activity) there are several clusters. Let's look at the maximum percentage of objects in a class that are assigned to a single cluster. This will be a simple metric that characterizes how easily the class is separated from others when clustering.\n",
    "\n",
    "Example: if for class \"walking downstairs\" (with 1406 instances belonging to it), the distribution of clusters is:\n",
    " - cluster 1 - 900\n",
    " - cluster 3 - 500\n",
    " - cluster 6 - 6,\n",
    " \n",
    "then such a share will be 900/1406 $ \\approx $ 0.64.\n",
    " \n",
    "\n",
    "** Question 4: ** <br>\n",
    "Which activity is separated from the rest better than others based on the simple metric described above? <br>\n",
    "\n",
    "**Answer:**\n",
    "- walking\n",
    "- standing\n",
    "- walking downstairs\n",
    "- all three options are incorrect"
   ]
  },
  {
   "cell_type": "markdown",
   "metadata": {
    "_uuid": "c51f76505725d754a6d54f7bd01dedff7d5dc288"
   },
   "source": [
    "It can be seen that kMeans does not distinguish activities very well. Use the elbow method to select the optimal number of clusters. Parameters of the algorithm and the data we use are the same as before, we change only `n_clusters`."
   ]
  },
  {
   "cell_type": "code",
   "execution_count": 18,
   "metadata": {
    "_uuid": "90c60a1f8bce02bfedd8233190b7ff81fb134d35"
   },
   "outputs": [
    {
     "data": {
      "application/vnd.jupyter.widget-view+json": {
       "model_id": "ebb8d71f7734493fa99f7b908b9d1429",
       "version_major": 2,
       "version_minor": 0
      },
      "text/plain": [
       "HBox(children=(IntProgress(value=0, max=6), HTML(value='')))"
      ]
     },
     "metadata": {},
     "output_type": "display_data"
    },
    {
     "name": "stdout",
     "output_type": "stream",
     "text": [
      "\n"
     ]
    }
   ],
   "source": [
    "# # Your code here\n",
    "\"\"\"\n",
    "Calculating the sum of squared distances from each point to its assigned center(distortions).\n",
    "\"\"\"\n",
    "inertia = []\n",
    "for k in tqdm_notebook(range(1, n_classes + 1)):\n",
    "    kmeans = KMeans(n_clusters=k, n_init=100, \n",
    "                    random_state=RANDOM_STATE, n_jobs=1).fit(X_pca)\n",
    "    inertia.append(np.sqrt(kmeans.inertia_))\n",
    "    \n",
    "    "
   ]
  },
  {
   "cell_type": "code",
   "execution_count": 19,
   "metadata": {},
   "outputs": [
    {
     "data": {
      "text/plain": [
       "Text(0.5, 1.0, 'The Elbow Method showing the optimal k')"
      ]
     },
     "execution_count": 19,
     "metadata": {},
     "output_type": "execute_result"
    },
    {
     "data": {
      "image/png": "[encoded data removed]",
      "text/plain": [
       "<Figure size 1152x576 with 1 Axes>"
      ]
     },
     "metadata": {
      "needs_background": "light"
     },
     "output_type": "display_data"
    }
   ],
   "source": [
    "# Elbow plot\n",
    "plt.figure(figsize=(16,8))\n",
    "plt.plot(range(1, 7), inertia, marker='s');\n",
    "plt.xlabel('K clusters')\n",
    "plt.ylabel('Distortion')\n",
    "plt.title('The Elbow Method showing the optimal k')\n"
   ]
  },
  {
   "cell_type": "markdown",
   "metadata": {
    "_uuid": "5f9d80ac0bea5173134d880a5c1faf233456cd12"
   },
   "source": [
    "### ** Question 5: ** <br>\n",
    "How many clusters can we choose according to the elbow method? <br>\n",
    "\n",
    "**Answer options:**\n",
    "- 1\n",
    "- 2\n",
    "- 3\n",
    "- 4"
   ]
  },
  {
   "cell_type": "markdown",
   "metadata": {},
   "source": [
    "# Answers to remaining section:\n",
    "- https://www.kaggle.com/kashnitsky/a7-demo-unsupervised-learning-solution"
   ]
  },
  {
   "cell_type": "markdown",
   "metadata": {
    "_uuid": "f4b2c7c0bf71844e2aa1981b20bee09d9064255d"
   },
   "source": [
    "------------------------"
   ]
  },
  {
   "cell_type": "markdown",
   "metadata": {
    "_uuid": "234da989840379595bc0e65f6c1f81b78eddf19f"
   },
   "source": [
    "Let's try another clustering algorithm, described in the article – agglomerative clustering."
   ]
  },
  {
   "cell_type": "code",
   "execution_count": null,
   "metadata": {
    "_uuid": "1b6a2ea741788687a5f650ae5489385ffa8246cf"
   },
   "outputs": [],
   "source": [
    "# ag = AgglomerativeClustering(n_clusters=n_classes, \n",
    "#                              linkage='ward').fit(X_pca)"
   ]
  },
  {
   "cell_type": "markdown",
   "metadata": {
    "_uuid": "e7865fcf352c96efef317c24b424233acd0c5dd3"
   },
   "source": [
    "Calculate the Adjusted Rand Index (`sklearn.metrics`) for the resulting clustering and for ` KMeans` with the parameters from the 4th question."
   ]
  },
  {
   "cell_type": "code",
   "execution_count": null,
   "metadata": {
    "_uuid": "6d934179759ebf8159a6879c6e906a6a4d44544e"
   },
   "outputs": [],
   "source": [
    "# Your code here"
   ]
  },
  {
   "cell_type": "markdown",
   "metadata": {
    "_uuid": "ccee7b5d2d1155ebe672cec4282bb06af01f87a4"
   },
   "source": [
    "** Question 6: ** <br>\n",
    "Select all the correct statements. <br>\n",
    "\n",
    "** Answer options: **\n",
    "- According to ARI, KMeans handled clustering worse than Agglomerative Clustering \n",
    "- For ARI, it does not matter which tags are assigned to the cluster, only the partitioning of instances into clusters matters \n",
    "- In case of random partitioning into clusters, ARI will be close to zero "
   ]
  },
  {
   "cell_type": "markdown",
   "metadata": {
    "_uuid": "1367c265153403060e4e0bd69fe578cfafd03678"
   },
   "source": [
    "-------------------------------"
   ]
  },
  {
   "cell_type": "markdown",
   "metadata": {
    "_uuid": "eadfcc38dded52cc91f75a422a6eff8f1a5993c7"
   },
   "source": [
    "You can notice that the task is not very well solved when we try to detect several clusters (> 2). Now, let's solve the classification problem, given that the data is labeled.\n",
    "\n",
    "For classification, use the support vector machine – class `sklearn.svm.LinearSVC`. In this course, we did study this algorithm separately, but it is well-known and you can read about it, for example [here](http://cs231n.github.io/linear-classify/#svmvssoftmax).\n",
    "\n",
    "Choose the `C` hyperparameter for` LinearSVC` using `GridSearchCV`.\n",
    "\n",
    "- Train the new `StandardScaler` on the training set (with all original features), apply scaling to the test set\n",
    "- In `GridSearchCV`, specify `cv` = 3."
   ]
  },
  {
   "cell_type": "code",
   "execution_count": null,
   "metadata": {
    "_uuid": "61151d2f16a8beb49e7635e95ea55129f6e984ac"
   },
   "outputs": [],
   "source": [
    "# # Your code here\n",
    "# scaler = StandardScaler()\n",
    "# X_train_scaled =\n",
    "# X_test_scaled = "
   ]
  },
  {
   "cell_type": "code",
   "execution_count": null,
   "metadata": {
    "_uuid": "7b0c661771542832de4f923b5206f6c8df1aa508"
   },
   "outputs": [],
   "source": [
    "svc = LinearSVC(random_state=RANDOM_STATE)\n",
    "svc_params = {'C': [0.001, 0.01, 0.1, 1, 10]}"
   ]
  },
  {
   "cell_type": "code",
   "execution_count": null,
   "metadata": {
    "_uuid": "3f0573b69142f89a7a4f4852c4a1366b7f85270b"
   },
   "outputs": [],
   "source": [
    "# %%time\n",
    "# # Your code here\n",
    "# best_svc = None"
   ]
  },
  {
   "cell_type": "code",
   "execution_count": null,
   "metadata": {
    "_uuid": "4cff688492768e0f226b0aff08d4eb07450ed4ce"
   },
   "outputs": [],
   "source": [
    "# best_svc.best_params_, best_svc.best_score_"
   ]
  },
  {
   "cell_type": "markdown",
   "metadata": {
    "_uuid": "b6214f9ec00411039cde3237ed7891053d9d8c5d"
   },
   "source": [
    "**Question 7**<br>\n",
    "Which value of the hyperparameter `C` was chosen the best on the basis of cross-validation? <br>\n",
    "\n",
    "**Answer options:**\n",
    "- 0.001\n",
    "- 0.01\n",
    "- 0.1 \n",
    "- 1\n",
    "- 10"
   ]
  },
  {
   "cell_type": "code",
   "execution_count": null,
   "metadata": {
    "_uuid": "02e74bf62e37fbad5df8a685d6b06b2c9a48daaf"
   },
   "outputs": [],
   "source": [
    "# y_predicted = best_svc.predict(X_test_scaled)"
   ]
  },
  {
   "cell_type": "code",
   "execution_count": null,
   "metadata": {
    "_uuid": "3e9804082d8a9eb666149074a8d1983ccb19ae2d"
   },
   "outputs": [],
   "source": [
    "# tab = pd.crosstab(y_test, y_predicted, margins=True)\n",
    "# tab.index = ['walking', 'climbing up the stairs',\n",
    "#              'going down the stairs', 'sitting', 'standing', 'laying', 'all']\n",
    "# tab.columns = ['walking', 'climbing up the stairs',\n",
    "#              'going down the stairs', 'sitting', 'standing', 'laying', 'all']\n",
    "# tab"
   ]
  },
  {
   "cell_type": "markdown",
   "metadata": {
    "_uuid": "f1bae145f1034a9c42679e73240cd0860bc207c6"
   },
   "source": [
    "** Question 8: ** <br>\n",
    "Which activity type is worst detected by SVM in terms of precision? Recall?<br>\n",
    "\n",
    "**Answer options:**\n",
    "- precision – going up the stairs, recall – laying\n",
    "- precision – laying, recall – sitting\n",
    "- precision – walking, recall – walking\n",
    "- precision – standing, recall – sitting "
   ]
  },
  {
   "cell_type": "markdown",
   "metadata": {
    "_uuid": "472b5dadcd567b019cc6cd729a3917459207df14"
   },
   "source": [
    "Finally, do the same thing as in Question 7, but add PCA.\n",
    "\n",
    "- Use `X_train_scaled` and` X_test_scaled`\n",
    "- Train the same PCA as before, on the scaled training set, apply scaling to the test set\n",
    "- Choose the hyperparameter `C` via cross-validation on the training set with PCA-transformation. You will notice how much faster it works now.\n",
    "\n",
    "** Question 9: ** <br>\n",
    "What is the difference between the best quality (accuracy) for cross-validation in the case of all 561 initial characteristics and in the second case, when the principal component method was applied? Round to the nearest percent. <br>\n",
    "\n",
    "** Options: **\n",
    "- quality is the same\n",
    "- 2%\n",
    "- 4%\n",
    "- 10%\n",
    "- 20%"
   ]
  },
  {
   "cell_type": "code",
   "execution_count": null,
   "metadata": {
    "_uuid": "51508ed1cc529287af7cb3ebe62c5112bd4e5d19"
   },
   "outputs": [],
   "source": [
    "# Your code here"
   ]
  },
  {
   "cell_type": "markdown",
   "metadata": {
    "_uuid": "01dc096cb4ea5717d8709f2a7581574211753cf8"
   },
   "source": [
    "** Question 10: ** <br>\n",
    "Select all the correct statements:\n",
    "\n",
    "** Answer options: **\n",
    "- Principal component analysis in this case allowed to reduce the model training time, while the quality (mean cross-validation accuracy) suffered greatly, by more than 10%\n",
    "- PCA can be used to visualize data, but there are better methods for this task, for example, tSNE. However, PCA has lower computational complexity \n",
    "- PCA builds linear combinations of initial features, and in some applications they might be poorly interpreted by humans "
   ]
  }
 ],
 "metadata": {
  "anaconda-cloud": {},
  "kernelspec": {
   "display_name": "Python 3",
   "language": "python",
   "name": "python3"
  },
  "language_info": {
   "codemirror_mode": {
    "name": "ipython",
    "version": 3
   },
   "file_extension": ".py",
   "mimetype": "text/x-python",
   "name": "python",
   "nbconvert_exporter": "python",
   "pygments_lexer": "ipython3",
   "version": "3.7.4"
  }
 },
 "nbformat": 4,
 "nbformat_minor": 1
}
